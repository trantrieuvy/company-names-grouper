{
 "cells": [
  {
   "cell_type": "code",
   "execution_count": 1,
   "id": "853db113",
   "metadata": {},
   "outputs": [],
   "source": [
    "from dotenv import load_dotenv, find_dotenv\n",
    "_ = load_dotenv(find_dotenv())"
   ]
  },
  {
   "cell_type": "markdown",
   "id": "cc1de6e6",
   "metadata": {},
   "source": [
    "### Input company names"
   ]
  },
  {
   "cell_type": "code",
   "execution_count": 2,
   "id": "58a13798",
   "metadata": {},
   "outputs": [],
   "source": [
    "test_company_names = [\n",
    "    \"TRASOLUX SARL\",\n",
    "    \"DÄNISCHER TRANSPORT GmbH\",\n",
    "    \"ABS BONIFER POLSKA S\",\n",
    "    \"Vögele Logistik Deutschland GmbH\",\n",
    "    \"Müller Transporte AG\",\n",
    "    \"CARGOTRANS INTERNATIONAL LTD\",\n",
    "    \"H&M Logistics France\",\n",
    "    \"TNT Express Deutschland GmbH\",\n",
    "    \"Daimler AG\",\n",
    "    \"Daimler Group France SARL\",\n",
    "    \"Daimler Holding GmbH\",\n",
    "    \"MÉTROLOGÍA EXPRESS S.A.\",\n",
    "    \"Kühne & Nagel International AG\",\n",
    "    \"SCHENKER B.V.\",\n",
    "    \"Schenker Deutschland GmbH\",\n",
    "    \"A.B.C. Transport Inc.\",\n",
    "    \"A-B-C Logistics Ltd.\",\n",
    "    \"ABC. Transport, Polska\",\n",
    "    \"ABC Logística España S.L.\",\n",
    "    \"Fracht & Fuhre GmbH & Co. KG\",\n",
    "    \"Fracht+Fuhre GmbH\",\n",
    "    \"LKW WALTER Internationale Transportorganisation AG\",\n",
    "    \"L.K.W. Walter GmbH\",\n",
    "    \"LKW-WALTER GmbH Deutschland\",\n",
    "    \"VAN DER VALK TRANSPORT B.V.\",\n",
    "    \"VanDerValk Transp. GmbH\",\n",
    "    \"Transpórtes Van Der Valk SARL\",\n",
    "    \"Ñ-LOGIC TRANSPORTES SA\",\n",
    "    \"CÔTE D’AZUR LOGISTIQUE SARL\",\n",
    "    \"P&O Ferrymasters Ltd\",\n",
    "    \"P & O FERRIES Deutschland\",\n",
    "    \"P&O-Ferries GmbH\",\n",
    "    \"GRÜNBERG EXPRESS S.A.R.L.\",\n",
    "    \"Grunberg Logistics France\",\n",
    "    \"GRUNBERG logistik gmbh\",\n",
    "    \"V.T. Logistics Inc\",\n",
    "    \"VT Logistics GmbH\",\n",
    "    \"VT-Logistik Poland\"\n",
    "]\n"
   ]
  },
  {
   "cell_type": "markdown",
   "id": "c48abff7",
   "metadata": {},
   "source": [
    "### Names Cleaning"
   ]
  },
  {
   "cell_type": "code",
   "execution_count": 3,
   "id": "e2559a68",
   "metadata": {},
   "outputs": [],
   "source": [
    "from langchain_openai import ChatOpenAI\n",
    "from langchain.prompts import ChatPromptTemplate\n",
    "\n",
    "PROMPT_TEMPLATE = \"\"\"\n",
    "You are a data cleaning assistant. Your task is to clean and standardize company names by removing noise and normalizing the format.\n",
    "Given a list of company names, return only the cleaned names in the same order, one per line, without explanations.\n",
    "\n",
    "Cleaning instructions:\n",
    "- Fix obvious typos and character substitutions (e.g., \"N1KE\" → \"nike\", \"Coka Cola\" → \"coca cola\")\n",
    "- Remove extra whitespace, punctuation, or special characters (e.g., \",\", \".\", \"@\", \"...\")\n",
    "- Normalize accented characters to ASCII equivalents (e.g., é → e, ç → c)\n",
    "- Remove:\n",
    "  - Legal suffixes (e.g., GmbH, SARL, S.A., Inc., Ltd., AG, B.V., etc.)\n",
    "  - Country or location identifiers (e.g., Polska, France, Deutschland, USA)\n",
    "  - Special characters (e.g., &, -, _, ., ,, /, etc.)\n",
    "  - Standalone numbers and single-letter tokens\n",
    "- Normalize casing: all output should be in lowercase\n",
    "- Standardize to the main company entity name (e.g., all variants of “Coca-Cola” become “coca cola”)\n",
    "\n",
    "Return only the cleaned and standardized company name on each line in the same order as input.\n",
    "\n",
    "Examples:\n",
    "- \"Coca-Cola Inc.\" → coca cola\n",
    "- \"N1KE Int’l Ltd\" → nike\n",
    "- \"SoundWave GmbH & Co. KG\" → soundwave\n",
    "- \"Katoen Natie Belgium\" → katoen natie\n",
    "\n",
    "Company names:\n",
    "{company_list}\n",
    "\"\"\"\n",
    "\n",
    "prompt_template = ChatPromptTemplate.from_template(PROMPT_TEMPLATE)\n",
    "formatted_prompt = prompt_template.format(company_list=test_company_names)\n",
    "model = ChatOpenAI(model_name=\"gpt-4o-mini\", temperature=0.0)  \n",
    "response_text = model.invoke(formatted_prompt)\n",
    "cleaned_names = response_text.content \n",
    "cleaned_names = cleaned_names.strip().split('\\n') "
   ]
  },
  {
   "cell_type": "code",
   "execution_count": 4,
   "id": "892b63e4",
   "metadata": {},
   "outputs": [
    {
     "data": {
      "text/plain": [
       "['trasolux  ',\n",
       " 'danischer transport  ',\n",
       " 'abs bonifer  ',\n",
       " 'vogele logistik  ',\n",
       " 'muller transporte  ',\n",
       " 'cargotrans international  ',\n",
       " 'hm logistics  ',\n",
       " 'tnt express  ',\n",
       " 'daimler  ',\n",
       " 'daimler group  ',\n",
       " 'daimler holding  ',\n",
       " 'metrologia express  ',\n",
       " 'kuhne nagel international  ',\n",
       " 'schenker  ',\n",
       " 'schenker deutschland  ',\n",
       " 'abc transport  ',\n",
       " 'abc logistics  ',\n",
       " 'fracht fuhre  ',\n",
       " 'fracht fuhre  ',\n",
       " 'lkw walter internationale transportorganisation  ',\n",
       " 'lkw walter  ',\n",
       " 'lkw walter  ',\n",
       " 'van der valk transport  ',\n",
       " 'vandervalk transp  ',\n",
       " 'transportes van der valk  ',\n",
       " 'n logic transportes  ',\n",
       " 'cote d azur logistique  ',\n",
       " 'p o ferrymasters  ',\n",
       " 'p o ferries  ',\n",
       " 'p o ferries  ',\n",
       " 'grunberg express  ',\n",
       " 'grunberg logistics  ',\n",
       " 'grunberg logistik  ',\n",
       " 'vt logistics  ',\n",
       " 'vt logistics  ',\n",
       " 'vt logistik']"
      ]
     },
     "execution_count": 4,
     "metadata": {},
     "output_type": "execute_result"
    }
   ],
   "source": [
    "cleaned_names"
   ]
  },
  {
   "cell_type": "markdown",
   "id": "3aaa3771",
   "metadata": {},
   "source": [
    "### Generalize names"
   ]
  },
  {
   "cell_type": "code",
   "execution_count": 5,
   "id": "fce534f3",
   "metadata": {},
   "outputs": [],
   "source": [
    "PROMPT_TEMPLATE_GERNERALIZE = \"\"\"\n",
    "You are a name generalizer assistant. Your task is to generalize cleaned company names by normalizing them to the shortest format.\n",
    "Given a list of company names, return a dictionary of give names as keys and the generalized names as values in the same order, one per line, without explanations.\n",
    "\n",
    "Generalizing instructions:\n",
    "- Keep only company name without any suffices (e.g., \"vinfast automobile\" → \"vinfast\", \"vinfast auto\" → \"vinfast\", \"vinfast car\" → \"vinfast\")\n",
    "- Remove:\n",
    "  - Special characters (e.g., &, -, _, ., ,, /, etc.)\n",
    "  \n",
    "Examples:\n",
    "- \"coca cola beverage\" → coca cola\n",
    "- \"vinfast transportorganisation\" → vinfast\n",
    "- \"vinfast transport\" → vinfast\n",
    "- \"grab logistica\" → grab\n",
    "\n",
    "Company names:\n",
    "{cleaned_company_list}\n",
    "\"\"\"\n",
    "\n",
    "prompt_template_generalize = ChatPromptTemplate.from_template(PROMPT_TEMPLATE_GERNERALIZE)\n",
    "formatted_prompt_generalize = prompt_template_generalize.format(cleaned_company_list=cleaned_names)\n",
    "response_text_generalize = model.invoke(formatted_prompt_generalize)\n",
    "generalized_names = response_text_generalize.content "
   ]
  },
  {
   "cell_type": "code",
   "execution_count": 6,
   "id": "7297756a",
   "metadata": {},
   "outputs": [
    {
     "data": {
      "text/plain": [
       "{'trasolux': 'trasolux',\n",
       " 'danischer transport': 'danischer',\n",
       " 'abs bonifer': 'absbonifer',\n",
       " 'vogele logistik': 'vogele',\n",
       " 'muller transporte': 'muller',\n",
       " 'cargotrans international': 'cargotrans',\n",
       " 'hm logistics': 'hm',\n",
       " 'tnt express': 'tnt',\n",
       " 'daimler': 'daimler',\n",
       " 'daimler group': 'daimler',\n",
       " 'daimler holding': 'daimler',\n",
       " 'metrologia express': 'metrologia',\n",
       " 'kuhne nagel international': 'kuhnenagel',\n",
       " 'schenker': 'schenker',\n",
       " 'schenker deutschland': 'schenker',\n",
       " 'abc transport': 'abc',\n",
       " 'abc logistics': 'abc',\n",
       " 'fracht fuhre': 'frachtfuhre',\n",
       " 'lkw walter internationale transportorganisation': 'lkwwalter',\n",
       " 'lkw walter': 'lkwwalter',\n",
       " 'van der valk transport': 'vandervalk',\n",
       " 'vandervalk transp': 'vandervalk',\n",
       " 'transportes van der valk': 'vandervalk',\n",
       " 'n logic transportes': 'nlogic',\n",
       " 'cote d azur logistique': 'cotedazur',\n",
       " 'p o ferrymasters': 'po',\n",
       " 'p o ferries': 'po',\n",
       " 'grunberg express': 'grunberg',\n",
       " 'grunberg logistics': 'grunberg',\n",
       " 'grunberg logistik': 'grunberg',\n",
       " 'vt logistics': 'vt',\n",
       " 'vt logistik': 'vt'}"
      ]
     },
     "execution_count": 6,
     "metadata": {},
     "output_type": "execute_result"
    }
   ],
   "source": [
    "import ast\n",
    "group_name_dict = ast.literal_eval(generalized_names)\n",
    "for key in group_name_dict.keys():\n",
    "    group_name_dict[key] = group_name_dict[key].replace(\" \", \"\")\n",
    "group_name_dict"
   ]
  },
  {
   "cell_type": "code",
   "execution_count": 7,
   "id": "62378026",
   "metadata": {},
   "outputs": [],
   "source": [
    "# group keys with the same value to a list\n",
    "grouped_names = {}\n",
    "for key, value in group_name_dict.items():\n",
    "    if value not in grouped_names:\n",
    "        grouped_names[value] = []\n",
    "    grouped_names[value].append(key)"
   ]
  },
  {
   "cell_type": "code",
   "execution_count": 8,
   "id": "4f298d37",
   "metadata": {},
   "outputs": [
    {
     "data": {
      "text/plain": [
       "{'trasolux': ['trasolux'],\n",
       " 'danischer': ['danischer transport'],\n",
       " 'absbonifer': ['abs bonifer'],\n",
       " 'vogele': ['vogele logistik'],\n",
       " 'muller': ['muller transporte'],\n",
       " 'cargotrans': ['cargotrans international'],\n",
       " 'hm': ['hm logistics'],\n",
       " 'tnt': ['tnt express'],\n",
       " 'daimler': ['daimler', 'daimler group', 'daimler holding'],\n",
       " 'metrologia': ['metrologia express'],\n",
       " 'kuhnenagel': ['kuhne nagel international'],\n",
       " 'schenker': ['schenker', 'schenker deutschland'],\n",
       " 'abc': ['abc transport', 'abc logistics'],\n",
       " 'frachtfuhre': ['fracht fuhre'],\n",
       " 'lkwwalter': ['lkw walter internationale transportorganisation',\n",
       "  'lkw walter'],\n",
       " 'vandervalk': ['van der valk transport',\n",
       "  'vandervalk transp',\n",
       "  'transportes van der valk'],\n",
       " 'nlogic': ['n logic transportes'],\n",
       " 'cotedazur': ['cote d azur logistique'],\n",
       " 'po': ['p o ferrymasters', 'p o ferries'],\n",
       " 'grunberg': ['grunberg express', 'grunberg logistics', 'grunberg logistik'],\n",
       " 'vt': ['vt logistics', 'vt logistik']}"
      ]
     },
     "execution_count": 8,
     "metadata": {},
     "output_type": "execute_result"
    }
   ],
   "source": [
    "grouped_names"
   ]
  }
 ],
 "metadata": {
  "kernelspec": {
   "display_name": "fun",
   "language": "python",
   "name": "python3"
  },
  "language_info": {
   "codemirror_mode": {
    "name": "ipython",
    "version": 3
   },
   "file_extension": ".py",
   "mimetype": "text/x-python",
   "name": "python",
   "nbconvert_exporter": "python",
   "pygments_lexer": "ipython3",
   "version": "3.9.19"
  }
 },
 "nbformat": 4,
 "nbformat_minor": 5
}
